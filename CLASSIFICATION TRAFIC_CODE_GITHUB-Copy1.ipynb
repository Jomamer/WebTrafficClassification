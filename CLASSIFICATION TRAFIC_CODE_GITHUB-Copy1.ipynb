{
 "cells": [
  {
   "cell_type": "markdown",
   "metadata": {},
   "source": [
    "# Prédiction de la nature du trafic: Contributi ensemble learning"
   ]
  },
  {
   "cell_type": "code",
   "execution_count": 1,
   "metadata": {
    "ExecuteTime": {
     "end_time": "2019-03-30T18:01:40.641196Z",
     "start_time": "2019-03-30T18:01:40.632989Z"
    }
   },
   "outputs": [],
   "source": [
    "import os\n",
    "import pandas as pd\n",
    "import numpy as np\n",
    "from sklearn import datasets\n",
    "from sklearn import tree\n",
    "# Ensemble Learning\n",
    "from sklearn.ensemble import RandomForestClassifier\n",
    "from sklearn.ensemble import ExtraTreesClassifier\n",
    "from sklearn.ensemble import GradientBoostingClassifier\n",
    "from sklearn.neighbors import KNeighborsClassifier\n",
    "\n",
    "from xgboost import XGBClassifier\n",
    "#from sklearn import cross_validation\n",
    "from sklearn.model_selection import KFold, cross_val_score\n",
    "import sklearn.model_selection as ms\n",
    "from sklearn import metrics\n",
    "\n",
    "from matplotlib import pyplot as plt\n",
    "%matplotlib inline"
   ]
  },
  {
   "cell_type": "markdown",
   "metadata": {},
   "source": [
    "## Load Data  for Classification"
   ]
  },
  {
   "cell_type": "code",
   "execution_count": 2,
   "metadata": {
    "ExecuteTime": {
     "end_time": "2019-03-30T17:56:53.319994Z",
     "start_time": "2019-03-30T17:56:53.294780Z"
    }
   },
   "outputs": [
    {
     "data": {
      "text/plain": [
       "(61065, 4)"
      ]
     },
     "execution_count": 2,
     "metadata": {},
     "output_type": "execute_result"
    }
   ],
   "source": [
    "databases = pd.read_csv(\"csic_databases.csv\")\n",
    "databases.shape"
   ]
  },
  {
   "cell_type": "markdown",
   "metadata": {},
   "source": [
    "# NETTOYAGE DES DONNEES\n"
   ]
  },
  {
   "cell_type": "markdown",
   "metadata": {},
   "source": [
    "vérifions si nous avons des erreurs de type"
   ]
  },
  {
   "cell_type": "markdown",
   "metadata": {},
   "source": [
    "Vérifions si nous avons des données manquantes:"
   ]
  },
  {
   "cell_type": "code",
   "execution_count": 3,
   "metadata": {},
   "outputs": [
    {
     "data": {
      "text/plain": [
       "Type                  0\n",
       "classification    43088\n",
       "URL               43088\n",
       "Link                  0\n",
       "dtype: int64"
      ]
     },
     "execution_count": 3,
     "metadata": {},
     "output_type": "execute_result"
    }
   ],
   "source": [
    "databases.isnull().sum()"
   ]
  },
  {
   "cell_type": "markdown",
   "metadata": {},
   "source": [
    "Conclusion: Nous remarquons que de la variable:\n",
    "            1-Accept -charset contient 397 valeurs manquantes\n",
    "            2- Lenght contient 43088 valeurs manquantes\n",
    "            3- classification contient 43088 valeurs manquantes\n",
    "            4- URL contient 43088 valeurs manquantes"
   ]
  },
  {
   "cell_type": "markdown",
   "metadata": {},
   "source": [
    "Traitement des valeurs manquantes"
   ]
  },
  {
   "cell_type": "code",
   "execution_count": 4,
   "metadata": {},
   "outputs": [
    {
     "data": {
      "text/plain": [
       "(17977, 4)"
      ]
     },
     "execution_count": 4,
     "metadata": {},
     "output_type": "execute_result"
    }
   ],
   "source": [
    "databases= databases.dropna()\n",
    "databases.shape"
   ]
  },
  {
   "cell_type": "markdown",
   "metadata": {},
   "source": [
    "Verification si le traitement des valeurs manquantes sont effectives"
   ]
  },
  {
   "cell_type": "code",
   "execution_count": 5,
   "metadata": {},
   "outputs": [
    {
     "data": {
      "text/plain": [
       "Type              0\n",
       "classification    0\n",
       "URL               0\n",
       "Link              0\n",
       "dtype: int64"
      ]
     },
     "execution_count": 5,
     "metadata": {},
     "output_type": "execute_result"
    }
   ],
   "source": [
    "databases.isnull().sum()"
   ]
  },
  {
   "cell_type": "markdown",
   "metadata": {},
   "source": [
    "Conclusion :Plus de valeurs manquantes."
   ]
  },
  {
   "cell_type": "markdown",
   "metadata": {},
   "source": [
    "vérifions si nous avons des erreurs de types "
   ]
  },
  {
   "cell_type": "code",
   "execution_count": 6,
   "metadata": {},
   "outputs": [
    {
     "data": {
      "text/plain": [
       "Type              object\n",
       "classification    object\n",
       "URL               object\n",
       "Link              object\n",
       "dtype: object"
      ]
     },
     "execution_count": 6,
     "metadata": {},
     "output_type": "execute_result"
    }
   ],
   "source": [
    "databases.dtypes"
   ]
  },
  {
   "cell_type": "markdown",
   "metadata": {},
   "source": [
    "Conclusion:Il  y a des erreurs  de type"
   ]
  },
  {
   "cell_type": "code",
   "execution_count": 7,
   "metadata": {},
   "outputs": [
    {
     "data": {
      "text/plain": [
       "array(['Normal', 'Anomalous'], dtype=object)"
      ]
     },
     "execution_count": 7,
     "metadata": {},
     "output_type": "execute_result"
    }
   ],
   "source": [
    "databases.Type.unique()"
   ]
  },
  {
   "cell_type": "code",
   "execution_count": 8,
   "metadata": {},
   "outputs": [
    {
     "data": {
      "text/plain": [
       "382"
      ]
     },
     "execution_count": 8,
     "metadata": {},
     "output_type": "execute_result"
    }
   ],
   "source": [
    "databases.classification.unique().size"
   ]
  },
  {
   "cell_type": "code",
   "execution_count": 9,
   "metadata": {},
   "outputs": [
    {
     "data": {
      "text/plain": [
       "array(['Content-Length: 68', 'Content-Length: 63', 'Content-Length: 4',\n",
       "       'Content-Length: 33', 'Content-Length: 43', 'Content-Length: 232',\n",
       "       'Content-Length: 17', 'Content-Length: 234', 'Content-Length: 72',\n",
       "       'Content-Length: 66', 'Content-Length: 42', 'Content-Length: 231',\n",
       "       'Content-Length: 241', 'Content-Length: 71', 'Content-Length: 59',\n",
       "       'Content-Length: 240', 'Content-Length: 276', 'Content-Length: 67',\n",
       "       'Content-Length: 38', 'Content-Length: 267', 'Content-Length: 268',\n",
       "       'Content-Length: 74', 'Content-Length: 62', 'Content-Length: 37',\n",
       "       'Content-Length: 242', 'Content-Length: 266', 'Content-Length: 64',\n",
       "       'Content-Length: 248', 'Content-Length: 239',\n",
       "       'Content-Length: 271', 'Content-Length: 253',\n",
       "       'Content-Length: 251', 'Content-Length: 60', 'Content-Length: 246',\n",
       "       'Content-Length: 237', 'Content-Length: 262',\n",
       "       'Content-Length: 243', 'Content-Length: 65', 'Content-Length: 259',\n",
       "       'Content-Length: 249', 'Content-Length: 58', 'Content-Length: 247',\n",
       "       'Content-Length: 263', 'Content-Length: 73', 'Content-Length: 55',\n",
       "       'Content-Length: 75', 'Content-Length: 61', 'Content-Length: 264',\n",
       "       'Content-Length: 258', 'Content-Length: 250',\n",
       "       'Content-Length: 265', 'Content-Length: 254',\n",
       "       'Content-Length: 270', 'Content-Length: 257',\n",
       "       'Content-Length: 244', 'Content-Length: 256', 'Content-Length: 56',\n",
       "       'Content-Length: 252', 'Content-Length: 269',\n",
       "       'Content-Length: 222', 'Content-Length: 238',\n",
       "       'Content-Length: 235', 'Content-Length: 70', 'Content-Length: 57',\n",
       "       'Content-Length: 54', 'Content-Length: 245', 'Content-Length: 255',\n",
       "       'Content-Length: 260', 'Content-Length: 233',\n",
       "       'Content-Length: 291', 'Content-Length: 279',\n",
       "       'Content-Length: 224', 'Content-Length: 275',\n",
       "       'Content-Length: 261', 'Content-Length: 273',\n",
       "       'Content-Length: 236', 'Content-Length: 287',\n",
       "       'Content-Length: 282', 'Content-Length: 41', 'Content-Length: 303',\n",
       "       'Content-Length: 277', 'Content-Length: 272',\n",
       "       'Content-Length: 228', 'Content-Length: 229',\n",
       "       'Content-Length: 284', 'Content-Length: 288',\n",
       "       'Content-Length: 274', 'Content-Length: 280',\n",
       "       'Content-Length: 227', 'Content-Length: 290',\n",
       "       'Content-Length: 283', 'Content-Length: 292',\n",
       "       'Content-Length: 221', 'Content-Length: 285', 'Content-Length: 53',\n",
       "       'Content-Length: 278', 'Content-Length: 230', 'Content-Length: 69',\n",
       "       'Content-Length: 286', 'Content-Length: 296',\n",
       "       'Content-Length: 226', 'Content-Length: 281', 'Content-Length: 52',\n",
       "       'Content-Length: 217', 'Content-Length: 220', 'Content-Length: 36',\n",
       "       'Content-Length: 223', 'Content-Length: 294',\n",
       "       'Content-Length: 307', 'Content-Length: 35', 'Content-Length: 297',\n",
       "       'Content-Length: 225', 'Content-Length: 289', 'Content-Length: 40',\n",
       "       'Content-Length: 302', 'Content-Length: 301',\n",
       "       'Content-Length: 146', 'Content-Length: 77', 'Content-Length: 118',\n",
       "       'Content-Length: 5', 'Content-Length: 12', 'Content-Length: 34',\n",
       "       'Content-Length: 106', 'Content-Length: 45', 'Content-Length: 324',\n",
       "       'Content-Length: 308', 'Content-Length: 20', 'Content-Length: 18',\n",
       "       'Content-Length: 398', 'Content-Length: 136', 'Content-Length: 76',\n",
       "       'Content-Length: 135', 'Content-Length: 8', 'Content-Length: 113',\n",
       "       'Content-Length: 99', 'Content-Length: 44', 'Content-Length: 306',\n",
       "       'Content-Length: 83', 'Content-Length: 143', 'Content-Length: 9',\n",
       "       'Content-Length: 102', 'Content-Length: 132', 'Content-Length: 14',\n",
       "       'Content-Length: 80', 'Content-Length: 78', 'Content-Length: 125',\n",
       "       'Content-Length: 39', 'Content-Length: 335', 'Content-Length: 6',\n",
       "       'Content-Length: 309', 'Content-Length: 295', 'Content-Length: 47',\n",
       "       'Content-Length: 100', 'Content-Length: 25', 'Content-Length: 150',\n",
       "       'Content-Length: 21', 'Content-Length: 50', 'Content-Length: 51',\n",
       "       'Content-Length: 319', 'Content-Length: 299', 'Content-Length: 46',\n",
       "       'Content-Length: 91', 'Content-Length: 48', 'Content-Length: 30',\n",
       "       'Content-Length: 22', 'Content-Length: 87', 'Content-Length: 101',\n",
       "       'Content-Length: 153', 'Content-Length: 327', 'Content-Length: 7',\n",
       "       'Content-Length: 89', 'Content-Length: 116', 'Content-Length: 105',\n",
       "       'Content-Length: 111', 'Content-Length: 140',\n",
       "       'Content-Length: 169', 'Content-Length: 597',\n",
       "       'Content-Length: 304', 'Content-Length: 342',\n",
       "       'Content-Length: 119', 'Content-Length: 337',\n",
       "       'Content-Length: 331', 'Content-Length: 122',\n",
       "       'Content-Length: 179', 'Content-Length: 24', 'Content-Length: 104',\n",
       "       'Content-Length: 310', 'Content-Length: 112', 'Content-Length: 26',\n",
       "       'Content-Length: 32', 'Content-Length: 799', 'Content-Length: 88',\n",
       "       'Content-Length: 49', 'Content-Length: 84', 'Content-Length: 121',\n",
       "       'Content-Length: 573', 'Content-Length: 93', 'Content-Length: 341',\n",
       "       'Content-Length: 110', 'Content-Length: 115',\n",
       "       'Content-Length: 410', 'Content-Length: 311',\n",
       "       'Content-Length: 151', 'Content-Length: 86', 'Content-Length: 826',\n",
       "       'Content-Length: 19', 'Content-Length: 174', 'Content-Length: 79',\n",
       "       'Content-Length: 293', 'Content-Length: 300',\n",
       "       'Content-Length: 148', 'Content-Length: 152',\n",
       "       'Content-Length: 316', 'Content-Length: 82', 'Content-Length: 131',\n",
       "       'Content-Length: 835', 'Content-Length: 123',\n",
       "       'Content-Length: 126', 'Content-Length: 209',\n",
       "       'Content-Length: 437', 'Content-Length: 323',\n",
       "       'Content-Length: 626', 'Content-Length: 109',\n",
       "       'Content-Length: 313', 'Content-Length: 361',\n",
       "       'Content-Length: 567', 'Content-Length: 94', 'Content-Length: 97',\n",
       "       'Content-Length: 352', 'Content-Length: 325', 'Content-Length: 81',\n",
       "       'Content-Length: 819', 'Content-Length: 13', 'Content-Length: 312',\n",
       "       'Content-Length: 90', 'Content-Length: 114', 'Content-Length: 784',\n",
       "       'Content-Length: 107', 'Content-Length: 127',\n",
       "       'Content-Length: 139', 'Content-Length: 85', 'Content-Length: 333',\n",
       "       'Content-Length: 133', 'Content-Length: 318',\n",
       "       'Content-Length: 155', 'Content-Length: 317',\n",
       "       'Content-Length: 824', 'Content-Length: 120',\n",
       "       'Content-Length: 314', 'Content-Length: 340',\n",
       "       'Content-Length: 371', 'Content-Length: 346', 'Content-Length: 95',\n",
       "       'Content-Length: 344', 'Content-Length: 144',\n",
       "       'Content-Length: 199', 'Content-Length: 159',\n",
       "       'Content-Length: 330', 'Content-Length: 117',\n",
       "       'Content-Length: 124', 'Content-Length: 98', 'Content-Length: 403',\n",
       "       'Content-Length: 593', 'Content-Length: 329',\n",
       "       'Content-Length: 103', 'Content-Length: 366',\n",
       "       'Content-Length: 141', 'Content-Length: 321',\n",
       "       'Content-Length: 404', 'Content-Length: 332',\n",
       "       'Content-Length: 320', 'Content-Length: 173',\n",
       "       'Content-Length: 108', 'Content-Length: 149',\n",
       "       'Content-Length: 128', 'Content-Length: 631',\n",
       "       'Content-Length: 338', 'Content-Length: 305',\n",
       "       'Content-Length: 356', 'Content-Length: 129',\n",
       "       'Content-Length: 628', 'Content-Length: 130',\n",
       "       'Content-Length: 298', 'Content-Length: 138',\n",
       "       'Content-Length: 187', 'Content-Length: 345',\n",
       "       'Content-Length: 137', 'Content-Length: 142',\n",
       "       'Content-Length: 184', 'Content-Length: 369',\n",
       "       'Content-Length: 145', 'Content-Length: 96', 'Content-Length: 815',\n",
       "       'Content-Length: 336', 'Content-Length: 447',\n",
       "       'Content-Length: 161', 'Content-Length: 350',\n",
       "       'Content-Length: 621', 'Content-Length: 177',\n",
       "       'Content-Length: 421', 'Content-Length: 794',\n",
       "       'Content-Length: 203', 'Content-Length: 147',\n",
       "       'Content-Length: 165', 'Content-Length: 166',\n",
       "       'Content-Length: 367', 'Content-Length: 92', 'Content-Length: 322',\n",
       "       'Content-Length: 134', 'Content-Length: 391',\n",
       "       'Content-Length: 777', 'Content-Length: 355', 'Content-Length: 31',\n",
       "       'Content-Length: 429', 'Content-Length: 638',\n",
       "       'Content-Length: 167', 'Content-Length: 328',\n",
       "       'Content-Length: 218', 'Content-Length: 351',\n",
       "       'Content-Length: 334', 'Content-Length: 163',\n",
       "       'Content-Length: 581', 'Content-Length: 399',\n",
       "       'Content-Length: 343', 'Content-Length: 601',\n",
       "       'Content-Length: 171', 'Content-Length: 204',\n",
       "       'Content-Length: 326', 'Content-Length: 354',\n",
       "       'Content-Length: 339', 'Content-Length: 160',\n",
       "       'Content-Length: 365', 'Content-Length: 158',\n",
       "       'Content-Length: 182', 'Content-Length: 568',\n",
       "       'Content-Length: 428', 'Content-Length: 164',\n",
       "       'Content-Length: 213', 'Content-Length: 315',\n",
       "       'Content-Length: 636', 'Content-Length: 353',\n",
       "       'Content-Length: 359', 'Content-Length: 822',\n",
       "       'Content-Length: 368', 'Content-Length: 411',\n",
       "       'Content-Length: 616', 'Content-Length: 172',\n",
       "       'Content-Length: 389', 'Content-Length: 374',\n",
       "       'Content-Length: 836', 'Content-Length: 802',\n",
       "       'Content-Length: 208', 'Content-Length: 181',\n",
       "       'Content-Length: 219', 'Content-Length: 414',\n",
       "       'Content-Length: 820', 'Content-Length: 599',\n",
       "       'Content-Length: 615', 'Content-Length: 438',\n",
       "       'Content-Length: 412', 'Content-Length: 183',\n",
       "       'Content-Length: 602', 'Content-Length: 162',\n",
       "       'Content-Length: 154', 'Content-Length: 635',\n",
       "       'Content-Length: 205', 'Content-Length: 156',\n",
       "       'Content-Length: 625', 'Content-Length: 423',\n",
       "       'Content-Length: 779', 'Content-Length: 401',\n",
       "       'Content-Length: 386', 'Content-Length: 623',\n",
       "       'Content-Length: 348', 'Content-Length: 443',\n",
       "       'Content-Length: 441', 'Content-Length: 214',\n",
       "       'Content-Length: 620', 'Content-Length: 416',\n",
       "       'Content-Length: 347', 'Content-Length: 622',\n",
       "       'Content-Length: 385'], dtype=object)"
      ]
     },
     "execution_count": 9,
     "metadata": {},
     "output_type": "execute_result"
    }
   ],
   "source": [
    "databases.classification.unique()"
   ]
  },
  {
   "cell_type": "code",
   "execution_count": 10,
   "metadata": {},
   "outputs": [
    {
     "data": {
      "text/plain": [
       "12091"
      ]
     },
     "execution_count": 10,
     "metadata": {},
     "output_type": "execute_result"
    }
   ],
   "source": [
    "databases.URL.unique().size"
   ]
  },
  {
   "cell_type": "code",
   "execution_count": 11,
   "metadata": {},
   "outputs": [
    {
     "data": {
      "text/plain": [
       "array(['id=3&nombre=Vino+Rioja&precio=100&cantidad=55&B1=A%F1adir+al+carrito',\n",
       "       'modo=entrar&login=choong&pwd=d1se3ci%F3n&remember=off&B1=Entrar',\n",
       "       'id=2', ...,\n",
       "       'modo=registro&login=beaumont&password=quEratItiS&nombre=Odilia&apellidos=Stumptner&email=henried%40cbgerindote.asia&dni=66631393W&direccion=C%2F+Xoana+Nogueira%2C+25+5%3FC&ciudad=Barrios%2C+Los&cp=46135&provincia=%C1vilaany%253F%250D%250ASet-cookie%253A%2BTamper%253D1041264011025374727&ntc=2498947451884473&B1=Registrar',\n",
       "       'modo=registro&login=%2Bmel%2Fhem&password=quEratItiS&nombre=Odilia&apellidos=Stumptner&email=henried%40cbgerindote.asia&dni=66631393W&direccion=C%2F+Xoana+Nogueira%2C+25+5%3FC&ciudad=Barrios%2C+Los&cp=46135&provincia=%C1vila&ntc=2498947451884473&B1=Registrar',\n",
       "       'modo=registro&login=beaumont&password=quEratItiS&nombre=Odilia&apellidos=Stumptner&email=henried%40cbgerindote.asia&dniA=66631393W&direccion=C%2F+Xoana+Nogueira%2C+25+5%3FC&ciudad=Barrios%2C+Los&cp=46135&provincia=%C1vila&ntc=2498947451884473&B1=Registrar'],\n",
       "      dtype=object)"
      ]
     },
     "execution_count": 11,
     "metadata": {},
     "output_type": "execute_result"
    }
   ],
   "source": [
    "databases.URL.unique()"
   ]
  },
  {
   "cell_type": "code",
   "execution_count": 12,
   "metadata": {},
   "outputs": [
    {
     "data": {
      "text/plain": [
       "8"
      ]
     },
     "execution_count": 12,
     "metadata": {},
     "output_type": "execute_result"
    }
   ],
   "source": [
    "databases.Link.unique().size"
   ]
  },
  {
   "cell_type": "code",
   "execution_count": 13,
   "metadata": {},
   "outputs": [
    {
     "data": {
      "text/plain": [
       "array(['http://localhost:8080/tienda1/publico/anadir.jsp HTTP/1.1',\n",
       "       'http://localhost:8080/tienda1/publico/autenticar.jsp HTTP/1.1',\n",
       "       'http://localhost:8080/tienda1/publico/caracteristicas.jsp HTTP/1.1',\n",
       "       'http://localhost:8080/tienda1/publico/entrar.jsp HTTP/1.1',\n",
       "       'http://localhost:8080/tienda1/publico/pagar.jsp HTTP/1.1',\n",
       "       'http://localhost:8080/tienda1/publico/registro.jsp HTTP/1.1',\n",
       "       'http://localhost:8080/tienda1/publico/vaciar.jsp HTTP/1.1',\n",
       "       'http://localhost:8080/tienda1/miembros/editar.jsp HTTP/1.1'],\n",
       "      dtype=object)"
      ]
     },
     "execution_count": 13,
     "metadata": {},
     "output_type": "execute_result"
    }
   ],
   "source": [
    "databases.Link.unique()"
   ]
  },
  {
   "cell_type": "code",
   "execution_count": 14,
   "metadata": {},
   "outputs": [
    {
     "data": {
      "text/html": [
       "<div>\n",
       "<style scoped>\n",
       "    .dataframe tbody tr th:only-of-type {\n",
       "        vertical-align: middle;\n",
       "    }\n",
       "\n",
       "    .dataframe tbody tr th {\n",
       "        vertical-align: top;\n",
       "    }\n",
       "\n",
       "    .dataframe thead th {\n",
       "        text-align: right;\n",
       "    }\n",
       "</style>\n",
       "<table border=\"1\" class=\"dataframe\">\n",
       "  <thead>\n",
       "    <tr style=\"text-align: right;\">\n",
       "      <th></th>\n",
       "      <th>Type</th>\n",
       "      <th>classification</th>\n",
       "      <th>URL</th>\n",
       "      <th>Link</th>\n",
       "    </tr>\n",
       "  </thead>\n",
       "  <tbody>\n",
       "    <tr>\n",
       "      <th>2</th>\n",
       "      <td>Normal</td>\n",
       "      <td>Content-Length: 68</td>\n",
       "      <td>id=3&amp;nombre=Vino+Rioja&amp;precio=100&amp;cantidad=55&amp;...</td>\n",
       "      <td>http://localhost:8080/tienda1/publico/anadir.j...</td>\n",
       "    </tr>\n",
       "    <tr>\n",
       "      <th>4</th>\n",
       "      <td>Normal</td>\n",
       "      <td>Content-Length: 63</td>\n",
       "      <td>modo=entrar&amp;login=choong&amp;pwd=d1se3ci%F3n&amp;remem...</td>\n",
       "      <td>http://localhost:8080/tienda1/publico/autentic...</td>\n",
       "    </tr>\n",
       "    <tr>\n",
       "      <th>6</th>\n",
       "      <td>Normal</td>\n",
       "      <td>Content-Length: 4</td>\n",
       "      <td>id=2</td>\n",
       "      <td>http://localhost:8080/tienda1/publico/caracter...</td>\n",
       "    </tr>\n",
       "    <tr>\n",
       "      <th>9</th>\n",
       "      <td>Normal</td>\n",
       "      <td>Content-Length: 33</td>\n",
       "      <td>errorMsg=Credenciales+incorrectas</td>\n",
       "      <td>http://localhost:8080/tienda1/publico/entrar.j...</td>\n",
       "    </tr>\n",
       "    <tr>\n",
       "      <th>12</th>\n",
       "      <td>Normal</td>\n",
       "      <td>Content-Length: 43</td>\n",
       "      <td>modo=insertar&amp;precio=2672&amp;B1=Pasar+por+caja</td>\n",
       "      <td>http://localhost:8080/tienda1/publico/pagar.js...</td>\n",
       "    </tr>\n",
       "  </tbody>\n",
       "</table>\n",
       "</div>"
      ],
      "text/plain": [
       "      Type      classification  \\\n",
       "2   Normal  Content-Length: 68   \n",
       "4   Normal  Content-Length: 63   \n",
       "6   Normal   Content-Length: 4   \n",
       "9   Normal  Content-Length: 33   \n",
       "12  Normal  Content-Length: 43   \n",
       "\n",
       "                                                  URL  \\\n",
       "2   id=3&nombre=Vino+Rioja&precio=100&cantidad=55&...   \n",
       "4   modo=entrar&login=choong&pwd=d1se3ci%F3n&remem...   \n",
       "6                                                id=2   \n",
       "9                   errorMsg=Credenciales+incorrectas   \n",
       "12        modo=insertar&precio=2672&B1=Pasar+por+caja   \n",
       "\n",
       "                                                 Link  \n",
       "2   http://localhost:8080/tienda1/publico/anadir.j...  \n",
       "4   http://localhost:8080/tienda1/publico/autentic...  \n",
       "6   http://localhost:8080/tienda1/publico/caracter...  \n",
       "9   http://localhost:8080/tienda1/publico/entrar.j...  \n",
       "12  http://localhost:8080/tienda1/publico/pagar.js...  "
      ]
     },
     "execution_count": 14,
     "metadata": {},
     "output_type": "execute_result"
    }
   ],
   "source": [
    "databases.head()"
   ]
  },
  {
   "cell_type": "code",
   "execution_count": 15,
   "metadata": {},
   "outputs": [],
   "source": [
    "names = ['Type','classification','URL','Link']"
   ]
  },
  {
   "cell_type": "code",
   "execution_count": 16,
   "metadata": {},
   "outputs": [],
   "source": [
    "databases[\"Type\"].replace([\"Normal\", \"Anomalous\"], [1, 0], inplace=True)\n",
    "databases[\"Type\"].head()\n",
    "databases[\"classification\"]= databases[\"classification\"].astype(\"category\").cat.codes\n",
    "databases[\"URL\"]= databases[\"URL\"].astype(\"category\").cat.codes\n",
    "databases[\"Link\"]= databases[\"Link\"].astype(\"category\").cat.codes"
   ]
  },
  {
   "cell_type": "code",
   "execution_count": 17,
   "metadata": {},
   "outputs": [
    {
     "data": {
      "text/html": [
       "<div>\n",
       "<style scoped>\n",
       "    .dataframe tbody tr th:only-of-type {\n",
       "        vertical-align: middle;\n",
       "    }\n",
       "\n",
       "    .dataframe tbody tr th {\n",
       "        vertical-align: top;\n",
       "    }\n",
       "\n",
       "    .dataframe thead th {\n",
       "        text-align: right;\n",
       "    }\n",
       "</style>\n",
       "<table border=\"1\" class=\"dataframe\">\n",
       "  <thead>\n",
       "    <tr style=\"text-align: right;\">\n",
       "      <th></th>\n",
       "      <th>Type</th>\n",
       "      <th>classification</th>\n",
       "      <th>URL</th>\n",
       "      <th>Link</th>\n",
       "    </tr>\n",
       "  </thead>\n",
       "  <tbody>\n",
       "    <tr>\n",
       "      <th>2</th>\n",
       "      <td>1</td>\n",
       "      <td>333</td>\n",
       "      <td>2190</td>\n",
       "      <td>1</td>\n",
       "    </tr>\n",
       "    <tr>\n",
       "      <th>4</th>\n",
       "      <td>1</td>\n",
       "      <td>324</td>\n",
       "      <td>3137</td>\n",
       "      <td>2</td>\n",
       "    </tr>\n",
       "    <tr>\n",
       "      <th>6</th>\n",
       "      <td>1</td>\n",
       "      <td>263</td>\n",
       "      <td>946</td>\n",
       "      <td>3</td>\n",
       "    </tr>\n",
       "    <tr>\n",
       "      <th>9</th>\n",
       "      <td>1</td>\n",
       "      <td>215</td>\n",
       "      <td>110</td>\n",
       "      <td>4</td>\n",
       "    </tr>\n",
       "    <tr>\n",
       "      <th>12</th>\n",
       "      <td>1</td>\n",
       "      <td>279</td>\n",
       "      <td>5412</td>\n",
       "      <td>5</td>\n",
       "    </tr>\n",
       "  </tbody>\n",
       "</table>\n",
       "</div>"
      ],
      "text/plain": [
       "    Type  classification   URL  Link\n",
       "2      1             333  2190     1\n",
       "4      1             324  3137     2\n",
       "6      1             263   946     3\n",
       "9      1             215   110     4\n",
       "12     1             279  5412     5"
      ]
     },
     "execution_count": 17,
     "metadata": {},
     "output_type": "execute_result"
    }
   ],
   "source": [
    "databases.head()"
   ]
  },
  {
   "cell_type": "code",
   "execution_count": 18,
   "metadata": {},
   "outputs": [
    {
     "data": {
      "text/plain": [
       "(-0.5, 2.5)"
      ]
     },
     "execution_count": 18,
     "metadata": {},
     "output_type": "execute_result"
    },
    {
     "data": {
      "image/png": "[encoded data removed]",
      "text/plain": [
       "<Figure size 432x288 with 1 Axes>"
      ]
     },
     "metadata": {
      "needs_background": "light"
     },
     "output_type": "display_data"
    }
   ],
   "source": [
    "databases['Type'].value_counts()\n",
    "#class distribution\n",
    "databases.hist(column='Type')\n",
    "plt.xlim(-0.5,2.5)"
   ]
  },
  {
   "cell_type": "code",
   "execution_count": 19,
   "metadata": {},
   "outputs": [
    {
     "data": {
      "text/plain": [
       "Type              int64\n",
       "classification    int16\n",
       "URL               int16\n",
       "Link               int8\n",
       "dtype: object"
      ]
     },
     "execution_count": 19,
     "metadata": {},
     "output_type": "execute_result"
    }
   ],
   "source": [
    "databases.dtypes"
   ]
  },
  {
   "cell_type": "code",
   "execution_count": 20,
   "metadata": {},
   "outputs": [
    {
     "data": {
      "text/plain": [
       "Type              0\n",
       "classification    0\n",
       "URL               0\n",
       "Link              0\n",
       "dtype: int64"
      ]
     },
     "execution_count": 20,
     "metadata": {},
     "output_type": "execute_result"
    }
   ],
   "source": [
    "databases.isnull().sum()"
   ]
  },
  {
   "cell_type": "code",
   "execution_count": 21,
   "metadata": {},
   "outputs": [
    {
     "data": {
      "text/html": [
       "<div>\n",
       "<style scoped>\n",
       "    .dataframe tbody tr th:only-of-type {\n",
       "        vertical-align: middle;\n",
       "    }\n",
       "\n",
       "    .dataframe tbody tr th {\n",
       "        vertical-align: top;\n",
       "    }\n",
       "\n",
       "    .dataframe thead th {\n",
       "        text-align: right;\n",
       "    }\n",
       "</style>\n",
       "<table border=\"1\" class=\"dataframe\">\n",
       "  <thead>\n",
       "    <tr style=\"text-align: right;\">\n",
       "      <th></th>\n",
       "      <th>Type</th>\n",
       "      <th>classification</th>\n",
       "      <th>URL</th>\n",
       "      <th>Link</th>\n",
       "    </tr>\n",
       "  </thead>\n",
       "  <tbody>\n",
       "    <tr>\n",
       "      <th>6</th>\n",
       "      <td>1</td>\n",
       "      <td>263</td>\n",
       "      <td>946</td>\n",
       "      <td>3</td>\n",
       "    </tr>\n",
       "    <tr>\n",
       "      <th>9</th>\n",
       "      <td>1</td>\n",
       "      <td>215</td>\n",
       "      <td>110</td>\n",
       "      <td>4</td>\n",
       "    </tr>\n",
       "    <tr>\n",
       "      <th>17</th>\n",
       "      <td>1</td>\n",
       "      <td>71</td>\n",
       "      <td>29</td>\n",
       "      <td>7</td>\n",
       "    </tr>\n",
       "    <tr>\n",
       "      <th>42</th>\n",
       "      <td>1</td>\n",
       "      <td>263</td>\n",
       "      <td>226</td>\n",
       "      <td>3</td>\n",
       "    </tr>\n",
       "    <tr>\n",
       "      <th>45</th>\n",
       "      <td>1</td>\n",
       "      <td>215</td>\n",
       "      <td>110</td>\n",
       "      <td>4</td>\n",
       "    </tr>\n",
       "    <tr>\n",
       "      <th>...</th>\n",
       "      <td>...</td>\n",
       "      <td>...</td>\n",
       "      <td>...</td>\n",
       "      <td>...</td>\n",
       "    </tr>\n",
       "    <tr>\n",
       "      <th>61031</th>\n",
       "      <td>0</td>\n",
       "      <td>18</td>\n",
       "      <td>147</td>\n",
       "      <td>4</td>\n",
       "    </tr>\n",
       "    <tr>\n",
       "      <th>61033</th>\n",
       "      <td>0</td>\n",
       "      <td>20</td>\n",
       "      <td>106</td>\n",
       "      <td>4</td>\n",
       "    </tr>\n",
       "    <tr>\n",
       "      <th>61035</th>\n",
       "      <td>0</td>\n",
       "      <td>226</td>\n",
       "      <td>163</td>\n",
       "      <td>4</td>\n",
       "    </tr>\n",
       "    <tr>\n",
       "      <th>61047</th>\n",
       "      <td>0</td>\n",
       "      <td>98</td>\n",
       "      <td>34</td>\n",
       "      <td>7</td>\n",
       "    </tr>\n",
       "    <tr>\n",
       "      <th>61049</th>\n",
       "      <td>0</td>\n",
       "      <td>78</td>\n",
       "      <td>81</td>\n",
       "      <td>7</td>\n",
       "    </tr>\n",
       "  </tbody>\n",
       "</table>\n",
       "<p>6349 rows × 4 columns</p>\n",
       "</div>"
      ],
      "text/plain": [
       "       Type  classification  URL  Link\n",
       "6         1             263  946     3\n",
       "9         1             215  110     4\n",
       "17        1              71   29     7\n",
       "42        1             263  226     3\n",
       "45        1             215  110     4\n",
       "...     ...             ...  ...   ...\n",
       "61031     0              18  147     4\n",
       "61033     0              20  106     4\n",
       "61035     0             226  163     4\n",
       "61047     0              98   34     7\n",
       "61049     0              78   81     7\n",
       "\n",
       "[6349 rows x 4 columns]"
      ]
     },
     "execution_count": 21,
     "metadata": {},
     "output_type": "execute_result"
    }
   ],
   "source": [
    "databases.loc[databases[['Type','classification','URL','Link']].duplicated(keep=False),:]"
   ]
  },
  {
   "cell_type": "code",
   "execution_count": 22,
   "metadata": {},
   "outputs": [
    {
     "data": {
      "text/html": [
       "<div>\n",
       "<style scoped>\n",
       "    .dataframe tbody tr th:only-of-type {\n",
       "        vertical-align: middle;\n",
       "    }\n",
       "\n",
       "    .dataframe tbody tr th {\n",
       "        vertical-align: top;\n",
       "    }\n",
       "\n",
       "    .dataframe thead th {\n",
       "        text-align: right;\n",
       "    }\n",
       "</style>\n",
       "<table border=\"1\" class=\"dataframe\">\n",
       "  <thead>\n",
       "    <tr style=\"text-align: right;\">\n",
       "      <th></th>\n",
       "      <th>Type</th>\n",
       "      <th>classification</th>\n",
       "      <th>URL</th>\n",
       "      <th>Link</th>\n",
       "    </tr>\n",
       "  </thead>\n",
       "  <tbody>\n",
       "    <tr>\n",
       "      <th>2</th>\n",
       "      <td>1</td>\n",
       "      <td>333</td>\n",
       "      <td>2190</td>\n",
       "      <td>1</td>\n",
       "    </tr>\n",
       "    <tr>\n",
       "      <th>4</th>\n",
       "      <td>1</td>\n",
       "      <td>324</td>\n",
       "      <td>3137</td>\n",
       "      <td>2</td>\n",
       "    </tr>\n",
       "    <tr>\n",
       "      <th>6</th>\n",
       "      <td>1</td>\n",
       "      <td>263</td>\n",
       "      <td>946</td>\n",
       "      <td>3</td>\n",
       "    </tr>\n",
       "    <tr>\n",
       "      <th>9</th>\n",
       "      <td>1</td>\n",
       "      <td>215</td>\n",
       "      <td>110</td>\n",
       "      <td>4</td>\n",
       "    </tr>\n",
       "    <tr>\n",
       "      <th>12</th>\n",
       "      <td>1</td>\n",
       "      <td>279</td>\n",
       "      <td>5412</td>\n",
       "      <td>5</td>\n",
       "    </tr>\n",
       "    <tr>\n",
       "      <th>...</th>\n",
       "      <td>...</td>\n",
       "      <td>...</td>\n",
       "      <td>...</td>\n",
       "      <td>...</td>\n",
       "    </tr>\n",
       "    <tr>\n",
       "      <th>61045</th>\n",
       "      <td>0</td>\n",
       "      <td>142</td>\n",
       "      <td>8918</td>\n",
       "      <td>6</td>\n",
       "    </tr>\n",
       "    <tr>\n",
       "      <th>61055</th>\n",
       "      <td>0</td>\n",
       "      <td>135</td>\n",
       "      <td>7477</td>\n",
       "      <td>0</td>\n",
       "    </tr>\n",
       "    <tr>\n",
       "      <th>61057</th>\n",
       "      <td>0</td>\n",
       "      <td>205</td>\n",
       "      <td>7478</td>\n",
       "      <td>0</td>\n",
       "    </tr>\n",
       "    <tr>\n",
       "      <th>61059</th>\n",
       "      <td>0</td>\n",
       "      <td>139</td>\n",
       "      <td>7132</td>\n",
       "      <td>0</td>\n",
       "    </tr>\n",
       "    <tr>\n",
       "      <th>61061</th>\n",
       "      <td>0</td>\n",
       "      <td>136</td>\n",
       "      <td>7479</td>\n",
       "      <td>0</td>\n",
       "    </tr>\n",
       "  </tbody>\n",
       "</table>\n",
       "<p>12118 rows × 4 columns</p>\n",
       "</div>"
      ],
      "text/plain": [
       "       Type  classification   URL  Link\n",
       "2         1             333  2190     1\n",
       "4         1             324  3137     2\n",
       "6         1             263   946     3\n",
       "9         1             215   110     4\n",
       "12        1             279  5412     5\n",
       "...     ...             ...   ...   ...\n",
       "61045     0             142  8918     6\n",
       "61055     0             135  7477     0\n",
       "61057     0             205  7478     0\n",
       "61059     0             139  7132     0\n",
       "61061     0             136  7479     0\n",
       "\n",
       "[12118 rows x 4 columns]"
      ]
     },
     "execution_count": 22,
     "metadata": {},
     "output_type": "execute_result"
    }
   ],
   "source": [
    "databases.drop_duplicates()"
   ]
  },
  {
   "cell_type": "code",
   "execution_count": 23,
   "metadata": {},
   "outputs": [
    {
     "data": {
      "text/plain": [
       "(17977, 4)"
      ]
     },
     "execution_count": 23,
     "metadata": {},
     "output_type": "execute_result"
    }
   ],
   "source": [
    "databases.shape"
   ]
  },
  {
   "cell_type": "code",
   "execution_count": 24,
   "metadata": {},
   "outputs": [],
   "source": [
    "y = databases['Type']\n",
    "X = databases.drop(['Type'], axis=1)"
   ]
  },
  {
   "cell_type": "markdown",
   "metadata": {},
   "source": [
    "## CrossValidation Strategy - Model selection"
   ]
  },
  {
   "cell_type": "code",
   "execution_count": 25,
   "metadata": {},
   "outputs": [
    {
     "name": "stdout",
     "output_type": "stream",
     "text": [
      "train_size: 16179 some-train-indexes: [ 0  3  4  5  6  7  8  9 10 11]\n",
      "train_size: 1798 some-test-indexes: [ 1  2 18 41 53 56 64 65 79 90]\n",
      "\n",
      "train_size: 16179 some-train-indexes: [0 1 2 3 4 5 6 7 8 9]\n",
      "train_size: 1798 some-test-indexes: [14 20 23 30 38 43 54 61 84 99]\n",
      "\n",
      "train_size: 16179 some-train-indexes: [ 0  1  2  3  5  6  7  9 10 11]\n",
      "train_size: 1798 some-test-indexes: [  4   8  26  32  34  44  52  78 103 106]\n",
      "\n",
      "train_size: 16179 some-train-indexes: [0 1 2 3 4 5 6 7 8 9]\n",
      "train_size: 1798 some-test-indexes: [ 10  17  29  40  42  55  72  73  89 104]\n",
      "\n",
      "\n",
      "train_size: 16179 some-train-indexes: [0 1 2 3 4 5 6 7 8 9]\n",
      "train_size: 1798 some-test-indexes: [ 22  35  37  57  66  69  82  91 113 126]\n",
      "\n",
      "train_size: 16179 some-train-indexes: [ 1  2  3  4  6  7  8  9 10 11]\n",
      "train_size: 1798 some-test-indexes: [ 0  5 15 19 27 39 62 68 86 95]\n",
      "train_size: 16179 some-train-indexes: [ 0  1  2  3  4  5  6  7  8 10]\n",
      "train_size: 1798 some-test-indexes: [  9  11  13  25  49 105 109 116 127 133]\n",
      "\n",
      "train_size: 16180 some-train-indexes: [0 1 2 3 4 5 6 7 8 9]\n",
      "train_size: 1797 some-test-indexes: [28 33 36 48 58 59 60 70 74 76]\n",
      "\n",
      "train_size: 16180 some-train-indexes: [ 0  1  2  4  5  7  8  9 10 11]\n",
      "train_size: 1797 some-test-indexes: [ 3  6 12 24 31 45 46 81 87 96]\n",
      "\n",
      "train_size: 16180 some-train-indexes: [ 0  1  2  3  4  5  6  8  9 10]\n",
      "train_size: 1797 some-test-indexes: [ 7 16 21 47 50 51 63 67 71 75]\n",
      "\n"
     ]
    }
   ],
   "source": [
    "CV_generator = KFold(n_splits=10, shuffle=True).split(X,y)\n",
    "#nb folds of cross validation\n",
    "for (train_idx, test_idx) in CV_generator:\n",
    "    print(\"train_size:\",len(train_idx),\"some-train-indexes:\", train_idx[:10]) \n",
    "    print(\"train_size:\",len(test_idx), \"some-test-indexes:\", test_idx[:10]) \n",
    "    input()"
   ]
  },
  {
   "cell_type": "code",
   "execution_count": 26,
   "metadata": {},
   "outputs": [],
   "source": [
    "\n",
    "\n",
    "\n",
    "\n",
    "\n",
    "\n",
    "\n",
    "kfold=10"
   ]
  },
  {
   "cell_type": "markdown",
   "metadata": {},
   "source": [
    "\n",
    "\n",
    "\n",
    "\n",
    "\n",
    "\n",
    "\n",
    "\n",
    "##### 1- Decision Tree"
   ]
  },
  {
   "cell_type": "code",
   "execution_count": 27,
   "metadata": {},
   "outputs": [
    {
     "name": "stdout",
     "output_type": "stream",
     "text": [
      "CrossVal rounds scores: [0.8481646273637374, 0.839265850945495, 0.8337041156840934, 0.8314794215795328, 0.8648498331479422, 0.8298109010011123, 0.8553948832035595, 0.8425153032832499, 0.8402893711741792, 0.8425153032832499]\n",
      " Accuracy_decision_treeclassifier: 0.84 (+/- 0.02)\n"
     ]
    }
   ],
   "source": [
    "#CV_generator = KFold(n_splits=10, shuffle=True).split(X,y)\n",
    "dtc = tree.DecisionTreeClassifier(max_depth=50) # default max_depth=?    \n",
    "scores = []\n",
    "for idx_train, idx_test in KFold(n_splits=10, shuffle=True).split(X,y):\n",
    "    X_train, X_test = X.iloc[idx_train], X.iloc[idx_test]\n",
    "    y_train, y_test = y.iloc[idx_train], y.iloc[idx_test]\n",
    "    dtc.fit(X_train, y_train)\n",
    "    y_pred = dtc.predict(X_test)\n",
    "    acc_score = metrics.accuracy_score(y_test, y_pred)\n",
    "    scores.append(acc_score)\n",
    "    \n",
    "    \n",
    "print(\"CrossVal rounds scores:\", scores)\n",
    "print(\" Accuracy_decision_treeclassifier: %0.2f (+/- %0.2f)\" % (np.mean(scores), np.std(scores) * 2))"
   ]
  },
  {
   "cell_type": "markdown",
   "metadata": {},
   "source": []
  },
  {
   "cell_type": "markdown",
   "metadata": {},
   "source": [
    "##### 4- KNN"
   ]
  },
  {
   "cell_type": "code",
   "execution_count": 33,
   "metadata": {},
   "outputs": [],
   "source": [
    "from sklearn.neighbors import KNeighborsClassifier"
   ]
  },
  {
   "cell_type": "code",
   "execution_count": 40,
   "metadata": {},
   "outputs": [],
   "source": [
    "knn = KNeighborsClassifier(n_neighbors=3)\n",
    "scores = cross_val_score(knn_cv, X, y, cv=10)"
   ]
  },
  {
   "cell_type": "code",
   "execution_count": 41,
   "metadata": {},
   "outputs": [
    {
     "name": "stdout",
     "output_type": "stream",
     "text": [
      "[0.81034483 0.81868743 0.79922136 0.80533927 0.80923248 0.80589544\n",
      " 0.79532814 0.80912632 0.79744018 0.79298831]\n",
      "Accuracy_knn: 0.80 (+/- 0.02)\n"
     ]
    }
   ],
   "source": [
    "print(scores)\n",
    "print(\"Accuracy_knn: %0.2f (+/- %0.2f)\" % (scores.mean(), scores.std() * 2))"
   ]
  },
  {
   "cell_type": "markdown",
   "metadata": {},
   "source": [
    "##### 5- Logistic Regression"
   ]
  },
  {
   "cell_type": "code",
   "execution_count": 42,
   "metadata": {},
   "outputs": [],
   "source": [
    "import numpy as np\n",
    "from sklearn.linear_model import LogisticRegression\n",
    "from sklearn.metrics import roc_curve, auc\n",
    "\n",
    "lr = LogisticRegression(solver = 'liblinear')"
   ]
  },
  {
   "cell_type": "code",
   "execution_count": 43,
   "metadata": {
    "ExecuteTime": {
     "end_time": "2019-03-30T18:02:26.192662Z",
     "start_time": "2019-03-30T18:02:25.434911Z"
    }
   },
   "outputs": [
    {
     "name": "stdout",
     "output_type": "stream",
     "text": [
      "Accuracy_LogisticRegression: 0.56 (+/- 0.01)\n"
     ]
    }
   ],
   "source": [
    "scores = cross_val_score(lr, X, y, cv=kfold)\n",
    "print(\"Accuracy_LogisticRegression: %0.2f (+/- %0.2f)\" % (scores.mean(), scores.std() * 2))"
   ]
  },
  {
   "cell_type": "markdown",
   "metadata": {},
   "source": [
    "### Performance evaluation"
   ]
  },
  {
   "cell_type": "code",
   "execution_count": 44,
   "metadata": {
    "ExecuteTime": {
     "end_time": "2019-03-30T18:02:52.417751Z",
     "start_time": "2019-03-30T18:02:52.414601Z"
    }
   },
   "outputs": [],
   "source": [
    "from sklearn import metrics"
   ]
  },
  {
   "cell_type": "code",
   "execution_count": 45,
   "metadata": {
    "ExecuteTime": {
     "end_time": "2019-03-30T18:03:37.298152Z",
     "start_time": "2019-03-30T18:03:36.941505Z"
    }
   },
   "outputs": [],
   "source": [
    "clf_map = {'DecisionTreeClassifier': dtc, 'KNearestNeigbhors': knn, 'LogisticRegression':lr }\n",
    "clf_preds_map = {}\n",
    "for cname, clf in clf_map.items():\n",
    "    clf.fit(X_train, y_train)\n",
    "    clf_preds_map[cname] = clf.predict(X_test)"
   ]
  },
  {
   "cell_type": "markdown",
   "metadata": {},
   "source": [
    "##### Accuracy"
   ]
  },
  {
   "cell_type": "code",
   "execution_count": 46,
   "metadata": {
    "ExecuteTime": {
     "end_time": "2019-03-30T18:03:39.986166Z",
     "start_time": "2019-03-30T18:03:39.977522Z"
    }
   },
   "outputs": [
    {
     "name": "stdout",
     "output_type": "stream",
     "text": [
      "=> DecisionTreeClassifier accuracy = [0.85]]\n",
      "=> KNearestNeigbhors accuracy = [0.84]]\n",
      "=> LogisticRegression accuracy = [0.57]]\n"
     ]
    }
   ],
   "source": [
    "\n",
    "for cname, _ in clf_map.items():\n",
    "    print(\"=> {0} accuracy = [{1:.2f}]]\".format(cname, metrics.accuracy_score(y_test,clf_preds_map[cname])))\n",
    "    "
   ]
  },
  {
   "cell_type": "code",
   "execution_count": 47,
   "metadata": {},
   "outputs": [
    {
     "name": "stdout",
     "output_type": "stream",
     "text": [
      "=> DecisionTreeClassifier f1_score = [0.85]]\n",
      "=> KNearestNeigbhors f1_score = [0.84]]\n",
      "=> LogisticRegression f1_score = [0.57]]\n"
     ]
    }
   ],
   "source": [
    "for cname, _ in clf_map.items():\n",
    "    print(\"=> {0} f1_score = [{1:.2f}]]\".format(cname, metrics.accuracy_score(y_test,clf_preds_map[cname])))\n",
    "    "
   ]
  },
  {
   "cell_type": "code",
   "execution_count": 48,
   "metadata": {},
   "outputs": [],
   "source": [
    "from sklearn import metrics"
   ]
  },
  {
   "cell_type": "code",
   "execution_count": 49,
   "metadata": {},
   "outputs": [],
   "source": [
    "clf_map = {'KNeighborsClassifier': knn ,'DecisionTreeClassifier': dtc ,'Logistic Regression':lr}\n",
    "clf_preds_map = {}\n",
    "for cname, clf in clf_map.items():\n",
    "    clf.fit(X_train, y_train)\n",
    "    clf_preds_map[cname] = clf.predict(X_test)"
   ]
  },
  {
   "cell_type": "markdown",
   "metadata": {},
   "source": [
    "# THREE learning model"
   ]
  },
  {
   "cell_type": "code",
   "execution_count": 54,
   "metadata": {
    "ExecuteTime": {
     "end_time": "2019-03-30T18:11:34.750966Z",
     "start_time": "2019-03-30T18:11:34.169355Z"
    }
   },
   "outputs": [
    {
     "name": "stdout",
     "output_type": "stream",
     "text": [
      "Mean_accuracy 0.930 (0.086)\n"
     ]
    }
   ],
   "source": [
    "# example of evaluating a stacking ensemble for classification\n",
    "from numpy import mean\n",
    "from numpy import std\n",
    "from sklearn.datasets import make_classification\n",
    "from sklearn.model_selection import cross_val_score\n",
    "from sklearn.model_selection import RepeatedStratifiedKFold\n",
    "from sklearn.ensemble import StackingClassifier\n",
    "from sklearn.neighbors import KNeighborsClassifier\n",
    "from sklearn.tree import DecisionTreeClassifier\n",
    "from sklearn.linear_model import LogisticRegression\n",
    "# create the synthetic classification dataset\n",
    "X, y = make_classification(random_state=1)\n",
    "# configure the models to use in the ensemble\n",
    "models = [('knn', KNeighborsClassifier()), ('tree', DecisionTreeClassifier())]\n",
    "# configure the ensemble model\n",
    "model = StackingClassifier(models, final_estimator=LogisticRegression(), cv=3)\n",
    "# configure the resampling method\n",
    "cv = RepeatedStratifiedKFold(n_splits=10, n_repeats=3, random_state=1)\n",
    "# evaluate the ensemble on the dataset using the resampling method# report ensemble performance\n",
    "#print('Mean f1_score: %.3f (%.3f)' % (mean(n_scores),std(n_scores)))\n",
    "n_scores = cross_val_score(model, X, y, scoring='accuracy', cv=cv, n_jobs=-1)\n",
    "# report ensemble performance\n",
    "print('Mean_accuracy %.3f (%.3f)' % (mean(n_scores),std(n_scores)))"
   ]
  },
  {
   "cell_type": "code",
   "execution_count": 55,
   "metadata": {},
   "outputs": [
    {
     "name": "stdout",
     "output_type": "stream",
     "text": [
      "Mean f1_score: 0.927 (0.085)\n"
     ]
    }
   ],
   "source": [
    "from numpy import mean\n",
    "from numpy import std\n",
    "from sklearn.datasets import make_classification\n",
    "from sklearn.model_selection import cross_val_score\n",
    "from sklearn.model_selection import RepeatedStratifiedKFold\n",
    "from sklearn.ensemble import StackingClassifier\n",
    "from sklearn.neighbors import KNeighborsClassifier\n",
    "from sklearn.tree import DecisionTreeClassifier\n",
    "from sklearn.linear_model import LogisticRegression\n",
    "# create the synthetic classification dataset\n",
    "X, y = make_classification(random_state=1)\n",
    "# configure the models to use in the ensemble\n",
    "models = [('knn', KNeighborsClassifier()), ('tree', DecisionTreeClassifier())]\n",
    "# configure the ensemble model\n",
    "model = StackingClassifier(models, final_estimator=LogisticRegression(), cv=3)\n",
    "# configure the resampling method\n",
    "cv = RepeatedStratifiedKFold(n_splits=10, n_repeats=3, random_state=1)\n",
    "# evaluate the ensemble on the dataset using the resampling method# report ensemble performance\n",
    "#print('Mean f1_score: %.3f (%.3f)' % (mean(n_scores),std(n_scores)))\n",
    "n_scores = cross_val_score(model, X, y, scoring='accuracy', cv=cv, n_jobs=-1)\n",
    "# report ensemble performance\n",
    "print('Mean f1_score: %.3f (%.3f)' % (mean(n_scores),std(n_scores)))"
   ]
  },
  {
   "cell_type": "code",
   "execution_count": null,
   "metadata": {},
   "outputs": [],
   "source": []
  },
  {
   "cell_type": "code",
   "execution_count": null,
   "metadata": {},
   "outputs": [],
   "source": []
  }
 ],
 "metadata": {
  "anaconda-cloud": {},
  "hide_input": false,
  "kernelspec": {
   "display_name": "Python 3 (ipykernel)",
   "language": "python",
   "name": "python3"
  },
  "language_info": {
   "codemirror_mode": {
    "name": "ipython",
    "version": 3
   },
   "file_extension": ".py",
   "mimetype": "text/x-python",
   "name": "python",
   "nbconvert_exporter": "python",
   "pygments_lexer": "ipython3",
   "version": "3.7.13"
  },
  "toc": {
   "base_numbering": 1,
   "nav_menu": {},
   "number_sections": true,
   "sideBar": true,
   "skip_h1_title": false,
   "title_cell": "Table of Contents",
   "title_sidebar": "Contents",
   "toc_cell": false,
   "toc_position": {},
   "toc_section_display": true,
   "toc_window_display": false
  }
 },
 "nbformat": 4,
 "nbformat_minor": 1
}
